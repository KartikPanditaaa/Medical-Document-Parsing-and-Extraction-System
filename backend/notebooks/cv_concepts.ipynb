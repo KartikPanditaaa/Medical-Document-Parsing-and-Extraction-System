{
 "cells": [
  {
   "cell_type": "code",
   "id": "0436755a-8d22-4734-8e30-24c15e599e35",
   "metadata": {
    "ExecuteTime": {
     "end_time": "2024-09-03T17:02:04.839485Z",
     "start_time": "2024-09-03T17:02:04.700456Z"
    }
   },
   "source": [
    "import cv2\n",
    "from PIL import Image"
   ],
   "outputs": [],
   "execution_count": 1
  },
  {
   "cell_type": "code",
   "id": "2e362ee6-7ec9-462c-b0a9-dcf98c7ef6a7",
   "metadata": {
    "ExecuteTime": {
     "end_time": "2024-09-03T17:02:04.853872Z",
     "start_time": "2024-09-03T17:02:04.840594Z"
    }
   },
   "source": [
    "img = cv2.imread(\"dark_image.jpg\", flags=cv2.IMREAD_GRAYSCALE)\n",
    "img"
   ],
   "outputs": [
    {
     "data": {
      "text/plain": [
       "array([[206, 206, 206, ..., 187, 186, 184],\n",
       "       [206, 206, 206, ..., 186, 185, 185],\n",
       "       [206, 206, 206, ..., 186, 185, 185],\n",
       "       ...,\n",
       "       [162, 157, 152, ..., 184, 184, 184],\n",
       "       [160, 156, 152, ..., 184, 184, 184],\n",
       "       [156, 158, 158, ..., 184, 184, 184]], dtype=uint8)"
      ]
     },
     "execution_count": 2,
     "metadata": {},
     "output_type": "execute_result"
    }
   ],
   "execution_count": 2
  },
  {
   "cell_type": "code",
   "id": "60904fc1-0a72-4132-9a00-e409031faadd",
   "metadata": {
    "ExecuteTime": {
     "end_time": "2024-09-03T17:02:04.887871Z",
     "start_time": "2024-09-03T17:02:04.853872Z"
    }
   },
   "source": [
    "_, new_img = cv2.threshold(img,150,255,cv2.THRESH_BINARY)\n",
    "Image.fromarray(new_img).show()"
   ],
   "outputs": [],
   "execution_count": 3
  },
  {
   "cell_type": "code",
   "id": "824a4879-afcc-451f-a74d-85b08d487b5a",
   "metadata": {
    "ExecuteTime": {
     "end_time": "2024-09-03T17:02:04.912928Z",
     "start_time": "2024-09-03T17:02:04.888882Z"
    }
   },
   "source": [
    "new_img = cv2.adaptiveThreshold(\n",
    "    img, 255,\n",
    "    cv2.ADAPTIVE_THRESH_GAUSSIAN_C,\n",
    "    cv2.THRESH_BINARY,\n",
    "    61,\n",
    "    11\n",
    ")\n",
    "Image.fromarray(new_img).show()"
   ],
   "outputs": [],
   "execution_count": 4
  }
 ],
 "metadata": {
  "kernelspec": {
   "display_name": "Python 3 (ipykernel)",
   "language": "python",
   "name": "python3"
  },
  "language_info": {
   "codemirror_mode": {
    "name": "ipython",
    "version": 3
   },
   "file_extension": ".py",
   "mimetype": "text/x-python",
   "name": "python",
   "nbconvert_exporter": "python",
   "pygments_lexer": "ipython3",
   "version": "3.12.4"
  }
 },
 "nbformat": 4,
 "nbformat_minor": 5
}
