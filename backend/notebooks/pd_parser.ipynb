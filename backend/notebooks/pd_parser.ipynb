{
 "cells": [
  {
   "cell_type": "code",
   "execution_count": 1,
   "id": "46e8f3c6-de14-4388-a1d6-52075c5ac69a",
   "metadata": {},
   "outputs": [],
   "source": [
    "from pdf2image import convert_from_path\n",
    "import pytesseract \n",
    "import cv2\n",
    "import numpy as np\n",
    "import re\n",
    "from PIL import Image"
   ]
  },
  {
   "cell_type": "code",
   "execution_count": 2,
   "id": "0a0ceffa-0429-455d-9be3-e8682eb6eaae",
   "metadata": {},
   "outputs": [],
   "source": [
    "pages = convert_from_path('../resources/patient_details/pd_1.pdf', poppler_path='C:/poppler-24.07.0/Library/bin')"
   ]
  },
  {
   "cell_type": "code",
   "execution_count": 3,
   "id": "94768076-7b6b-4748-94ce-3e17987b9b05",
   "metadata": {},
   "outputs": [
    {
     "data": {
      "text/plain": [
       "[<PIL.PpmImagePlugin.PpmImageFile image mode=RGB size=1867x2000>,\n",
       " <PIL.PpmImagePlugin.PpmImageFile image mode=RGB size=2000x1398>]"
      ]
     },
     "execution_count": 3,
     "metadata": {},
     "output_type": "execute_result"
    }
   ],
   "source": [
    "pages"
   ]
  },
  {
   "cell_type": "code",
   "execution_count": 4,
   "id": "fed6933c-aa1e-46c6-a8ac-de281e57cfa9",
   "metadata": {},
   "outputs": [],
   "source": [
    "pages[0].show()"
   ]
  },
  {
   "cell_type": "code",
   "execution_count": 5,
   "id": "eee64a21-385c-4f68-91af-dce19f435ccc",
   "metadata": {},
   "outputs": [
    {
     "name": "stdout",
     "output_type": "stream",
     "text": [
      "47/12/2020\n",
      "\n",
      "Patient Medical Record\n",
      "\n",
      "Patient Information Birth Date\n",
      "Kathy Crawford May 6 1972\n",
      "(737) 988-0851 Weight\n",
      "9264 Ash Dr 95\n",
      "New York City, 10005 .\n",
      "United States Height:\n",
      "190\n",
      "In Case of Emergency\n",
      "m _ a _\n",
      "Simeone Crawford 9266 Ash Dr\n",
      "New York City, New York, 10005\n",
      "Home phone United States\n",
      "(990) 375-4621\n",
      "Work phone\n",
      "Genera! Medical History\n",
      "\n",
      "Chicken Pox (Varicella):\n",
      "\n",
      "IMMUNE\n",
      "\n",
      "Have you had the Hepatitis B vaccination?\n",
      "\n",
      "No\n",
      "\n",
      "List any Medical Problems (asthma, seizures, headaches):\n",
      "\n",
      "Migraine\n",
      "\n"
     ]
    }
   ],
   "source": [
    "pytesseract.pytesseract.tesseract_cmd = r'C:/Program Files/Tesseract-OCR/tesseract.exe'\n",
    "text = pytesseract.image_to_string(pages[0], lang='eng')\n",
    "print(text)"
   ]
  },
  {
   "cell_type": "code",
   "execution_count": 6,
   "id": "e02849f4-3fbd-4916-b289-9ca8bc66fb2a",
   "metadata": {},
   "outputs": [],
   "source": [
    "def preprocess_image(img):\n",
    "    gray = cv2.cvtColor(np.array(img), cv2.COLOR_BGR2GRAY)\n",
    "    resized = cv2.resize(gray, None, fx=1.5, fy=1.5, interpolation=cv2.INTER_LINEAR)\n",
    "    processed_image = cv2.adaptiveThreshold(\n",
    "        resized,\n",
    "        255,\n",
    "        cv2.ADAPTIVE_THRESH_GAUSSIAN_C,\n",
    "        cv2.THRESH_BINARY,\n",
    "        61,\n",
    "        11\n",
    "    )\n",
    "    return processed_image"
   ]
  },
  {
   "cell_type": "code",
   "execution_count": 7,
   "id": "8abbd190-96b4-44ec-b7c5-0501e7dfd07c",
   "metadata": {},
   "outputs": [
    {
     "name": "stdout",
     "output_type": "stream",
     "text": [
      "17/12/2020\n",
      "\n",
      "Patient Medical Record\n",
      "\n",
      "Patient Information Birth Date\n",
      "Kathy Crawford May 6 1972\n",
      "(737) 988-0851 Weight’\n",
      "9264 Ash Dr 95\n",
      "New York City, 10005 .\n",
      "United States Height:\n",
      "190\n",
      "In Casc of Emergency\n",
      "7 ee\n",
      "Simeone Crawford 9266 Ash Dr\n",
      "New York City, New York, 10005\n",
      "Home phone United States\n",
      "(990) 375-4621\n",
      "Work phone\n",
      "\n",
      "Genera! Medical History\n",
      "\n",
      "a\n",
      "\n",
      "a\n",
      "\n",
      "a ea A CE i a\n",
      "\n",
      "Chicken Pox (Varicella): Measies:\n",
      "\n",
      "IMMUNE IMMUNE\n",
      "\n",
      "Have you had the Hepatitis B vaccination?\n",
      "No\n",
      "\n",
      "List any Medical Problems (asthma, seizures, headaches}:\n",
      "\n",
      "Migraine\n",
      "\n",
      "CO\n",
      "aa\n",
      "\n"
     ]
    }
   ],
   "source": [
    "img = preprocess_image(pages[0])\n",
    "Image.fromarray(img).show()\n",
    "\n",
    "text = pytesseract.image_to_string(img, lang='eng')\n",
    "print(text)"
   ]
  },
  {
   "cell_type": "markdown",
   "id": "50e4ff34-8bf5-46d9-9d3a-5ed03f2573ce",
   "metadata": {},
   "source": [
    "<h4>Extract Name</h4>"
   ]
  },
  {
   "cell_type": "code",
   "execution_count": 29,
   "id": "1de91e43-0b19-48b0-82d5-416494fb93c9",
   "metadata": {},
   "outputs": [
    {
     "data": {
      "text/plain": [
       "' Birth Date\\n\\nJerry Lucas May 2 1998\\n\\n'"
      ]
     },
     "execution_count": 29,
     "metadata": {},
     "output_type": "execute_result"
    }
   ],
   "source": [
    "pattern = r'Patient Information(.*?)\\(\\d{3}\\)'\n",
    "matches = re.findall(pattern, text, flags=re.DOTALL)\n",
    "matches[0]"
   ]
  },
  {
   "cell_type": "code",
   "execution_count": 30,
   "id": "05797a96-58a6-41ca-9de8-888e2d8dc13d",
   "metadata": {},
   "outputs": [
    {
     "data": {
      "text/plain": [
       "'Birth Date\\n\\nJerry Lucas May 2 1998'"
      ]
     },
     "execution_count": 30,
     "metadata": {},
     "output_type": "execute_result"
    }
   ],
   "source": [
    "matches[0].strip()"
   ]
  },
  {
   "cell_type": "code",
   "execution_count": 31,
   "id": "f59faf5d-f258-4e90-9814-c979978cdbf5",
   "metadata": {},
   "outputs": [
    {
     "data": {
      "text/plain": [
       "'Jerry Lucas May 2 1998'"
      ]
     },
     "execution_count": 31,
     "metadata": {},
     "output_type": "execute_result"
    }
   ],
   "source": [
    "match = matches[0].replace(\"Birth Date\", \" \").strip()\n",
    "match"
   ]
  },
  {
   "cell_type": "code",
   "execution_count": 32,
   "id": "b3992ba3-8375-4332-8085-b522a03d7675",
   "metadata": {},
   "outputs": [
    {
     "data": {
      "text/plain": [
       "'May 2 1998'"
      ]
     },
     "execution_count": 32,
     "metadata": {},
     "output_type": "execute_result"
    }
   ],
   "source": [
    "pattern = r'((Jan|Feb|Mar|April|May|June|July|Aug|Sep|Oct|Nov|Dec)[ \\d]+)'\n",
    "date_matches = re.findall(pattern, text)\n",
    "date = date_matches[0][0]\n",
    "date"
   ]
  },
  {
   "cell_type": "code",
   "execution_count": 33,
   "id": "8ca3baad-bbbc-4a0a-be33-846304f9a658",
   "metadata": {},
   "outputs": [
    {
     "data": {
      "text/plain": [
       "'Jerry Lucas'"
      ]
     },
     "execution_count": 33,
     "metadata": {},
     "output_type": "execute_result"
    }
   ],
   "source": [
    "match.replace(date, ' ').strip()"
   ]
  },
  {
   "cell_type": "code",
   "execution_count": 34,
   "id": "9aa86c50-f252-45fb-aae3-a9b3a343e4ec",
   "metadata": {},
   "outputs": [],
   "source": [
    "def remove_noise_from_name(name):\n",
    "    name = name.replace(\"Birth Date\", \" \").strip()\n",
    "    date_pattern = r'((Jan|Feb|Mar|April|May|June|July|Aug|Sep|Oct|Nov|Dec)[ \\d]+)'\n",
    "    date_matches = re.findall(pattern, text)\n",
    "\n",
    "    if date_matches:\n",
    "        date = date_matches[0][0]\n",
    "        name = name.replace(date, ' ').strip()\n",
    "    return name"
   ]
  },
  {
   "cell_type": "code",
   "execution_count": 35,
   "id": "a010bcf6-85bb-45d1-ab2a-abd291ac0d69",
   "metadata": {},
   "outputs": [
    {
     "data": {
      "text/plain": [
       "'Jerry Lucas'"
      ]
     },
     "execution_count": 35,
     "metadata": {},
     "output_type": "execute_result"
    }
   ],
   "source": [
    "name = 'Birth Date\\n\\nJerry Lucas May 2 1998\\n\\n'\n",
    "name = remove_noise_from_name(name)\n",
    "name"
   ]
  },
  {
   "cell_type": "markdown",
   "id": "fe930084-59b7-47c8-90d0-04a0c6553fe3",
   "metadata": {},
   "source": [
    "<h4>Extract Phone Number</h4>"
   ]
  },
  {
   "cell_type": "code",
   "execution_count": 36,
   "id": "4c241e5c-982c-48f5-b82b-33b7b1eb311d",
   "metadata": {},
   "outputs": [
    {
     "data": {
      "text/plain": [
       "[(' Birth Date\\n\\nJerry Lucas May 2 1998\\n\\n', '(279) 920-8204')]"
      ]
     },
     "execution_count": 36,
     "metadata": {},
     "output_type": "execute_result"
    }
   ],
   "source": [
    "pattern = r'Patient Information(.*?)(\\(\\d{3}\\) \\d{3}-\\d{4})'\n",
    "matches = re.findall(pattern, text, flags=re.DOTALL)\n",
    "matches"
   ]
  },
  {
   "cell_type": "code",
   "execution_count": 37,
   "id": "85abb67d-b165-44e8-8eb6-e8d6afbe7e74",
   "metadata": {},
   "outputs": [
    {
     "data": {
      "text/plain": [
       "'(279) 920-8204'"
      ]
     },
     "execution_count": 37,
     "metadata": {},
     "output_type": "execute_result"
    }
   ],
   "source": [
    "matches[0][1]"
   ]
  },
  {
   "cell_type": "markdown",
   "id": "9ad41816-20d6-457d-987c-ead70ac55570",
   "metadata": {},
   "source": [
    "<h4>Extract Vaccine</h4>"
   ]
  },
  {
   "cell_type": "code",
   "execution_count": 38,
   "id": "097d1913-96be-4b99-a649-b4398e44d053",
   "metadata": {},
   "outputs": [
    {
     "data": {
      "text/plain": [
       "['Yes']"
      ]
     },
     "execution_count": 38,
     "metadata": {},
     "output_type": "execute_result"
    }
   ],
   "source": [
    "pattern = r'Have you had the Hepatitis B vaccination\\?.*(Yes|No)'\n",
    "matches = re.findall(pattern, text, flags=re.DOTALL)\n",
    "matches"
   ]
  },
  {
   "cell_type": "markdown",
   "id": "ae8f5cf3-3918-4257-9a15-46c6b3706bb2",
   "metadata": {},
   "source": [
    "<h4>Medical Problems</h4>"
   ]
  },
  {
   "cell_type": "code",
   "execution_count": 42,
   "id": "033fbb05-0b31-4271-a766-20bf362b5e9a",
   "metadata": {},
   "outputs": [
    {
     "data": {
      "text/plain": [
       "'N/A\\n\\n7?\\nv\\n\\n17/12/2020'"
      ]
     },
     "execution_count": 42,
     "metadata": {},
     "output_type": "execute_result"
    }
   ],
   "source": [
    "pattern = r'List any Medical Problems \\(asthma, seizures, headaches\\):(.*)'\n",
    "matches = re.findall(pattern, text, flags=re.DOTALL)\n",
    "matches[0].strip()"
   ]
  }
 ],
 "metadata": {
  "kernelspec": {
   "display_name": "Python 3 (ipykernel)",
   "language": "python",
   "name": "python3"
  },
  "language_info": {
   "codemirror_mode": {
    "name": "ipython",
    "version": 3
   },
   "file_extension": ".py",
   "mimetype": "text/x-python",
   "name": "python",
   "nbconvert_exporter": "python",
   "pygments_lexer": "ipython3",
   "version": "3.12.4"
  }
 },
 "nbformat": 4,
 "nbformat_minor": 5
}
