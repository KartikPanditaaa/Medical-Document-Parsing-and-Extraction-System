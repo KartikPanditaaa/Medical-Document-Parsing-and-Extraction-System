{
 "cells": [
  {
   "cell_type": "code",
   "execution_count": 10,
   "id": "e5378ba4-6e9d-411d-a682-e4f62704c016",
   "metadata": {
    "ExecuteTime": {
     "end_time": "2024-09-03T17:02:25.033958Z",
     "start_time": "2024-09-03T17:02:25.030726Z"
    }
   },
   "outputs": [],
   "source": [
    "import pytesseract\n",
    "import pdf2image\n",
    "from pdf2image import convert_from_path\n",
    "import numpy as np\n",
    "import cv2\n",
    "from PIL import Image\n",
    "import re"
   ]
  },
  {
   "cell_type": "code",
   "execution_count": 2,
   "id": "a67b2dfb-5678-4f32-b4af-f48cd09e5000",
   "metadata": {
    "ExecuteTime": {
     "end_time": "2024-09-03T17:02:25.340994Z",
     "start_time": "2024-09-03T17:02:25.034967Z"
    }
   },
   "outputs": [],
   "source": [
    "pages = convert_from_path('../resources/prescription/pre_1.pdf', poppler_path='C:/poppler-24.07.0/Library/bin')"
   ]
  },
  {
   "cell_type": "code",
   "execution_count": 3,
   "id": "0cd54ea4-86a3-4c61-8a5b-d88504a01bf6",
   "metadata": {
    "ExecuteTime": {
     "end_time": "2024-09-03T17:02:26.084495Z",
     "start_time": "2024-09-03T17:02:25.342001Z"
    }
   },
   "outputs": [],
   "source": [
    "pages[0].show()"
   ]
  },
  {
   "cell_type": "code",
   "execution_count": 4,
   "id": "ca86e4e2-e2c7-41ea-975e-561643131ce3",
   "metadata": {
    "ExecuteTime": {
     "end_time": "2024-09-03T17:02:26.504820Z",
     "start_time": "2024-09-03T17:02:26.084495Z"
    }
   },
   "outputs": [
    {
     "name": "stdout",
     "output_type": "stream",
     "text": [
      "Dr John Smith, M.D\n",
      "2 Non-Important Street,\n",
      "New York, Phone (000)-111-2222\n",
      "\n",
      "Name: Maria Sharapova Date: 5/11/2022\n",
      "\n",
      "Address: 9 tennis court, new Russia, DC\n",
      "\n",
      "—moemenmannenneneneunmnnnnennieesisiyoinnitniahadaaanniihsnseneneneeeernnttnnneenrenen:\n",
      "\n",
      "Prednisone 20 mg\n",
      "Lialda 2.4 gram\n",
      "\n",
      "3 days,\n",
      "\n",
      "or 1 month\n",
      "\n"
     ]
    }
   ],
   "source": [
    "pytesseract.pytesseract.tesseract_cmd=r'C:/Program Files/Tesseract-OCR/tesseract.exe'\n",
    "text = pytesseract.image_to_string(pages[0], lang='eng')\n",
    "print(text)"
   ]
  },
  {
   "cell_type": "markdown",
   "id": "7f1f2b21-56b0-45f7-bb7f-a79ab6302cbe",
   "metadata": {},
   "source": [
    "Preprocessing the image using Adaptive Thresholding"
   ]
  },
  {
   "cell_type": "code",
   "execution_count": 7,
   "id": "43d82d18-58d6-4da5-88be-e10e78f9c658",
   "metadata": {
    "ExecuteTime": {
     "end_time": "2024-09-03T17:02:26.509012Z",
     "start_time": "2024-09-03T17:02:26.505827Z"
    }
   },
   "outputs": [],
   "source": [
    "def preprocess_image(img):\n",
    "    gray = cv2.cvtColor(np.array(img), cv2.COLOR_BGR2GRAY)\n",
    "    resized = cv2.resize(gray, None, fx=1.5, fy=1.5, interpolation=cv2.INTER_LINEAR)\n",
    "    processed_image = cv2.adaptiveThreshold(\n",
    "        resized,\n",
    "        255,\n",
    "        cv2.ADAPTIVE_THRESH_GAUSSIAN_C,\n",
    "        cv2.THRESH_BINARY,\n",
    "        61,\n",
    "        11\n",
    "    )\n",
    "    return processed_image"
   ]
  },
  {
   "cell_type": "code",
   "execution_count": 8,
   "id": "bb33f773-3026-4c5b-a6db-047cf26e4593",
   "metadata": {
    "ExecuteTime": {
     "end_time": "2024-09-03T17:02:26.691465Z",
     "start_time": "2024-09-03T17:02:26.510024Z"
    }
   },
   "outputs": [],
   "source": [
    "img = preprocess_image(pages[0])\n",
    "Image.fromarray(img).show()"
   ]
  },
  {
   "cell_type": "code",
   "execution_count": 11,
   "id": "f4c86964-0efc-40eb-98f2-71e788dadb7c",
   "metadata": {
    "ExecuteTime": {
     "end_time": "2024-09-03T17:02:27.092854Z",
     "start_time": "2024-09-03T17:02:26.692729Z"
    }
   },
   "outputs": [
    {
     "name": "stdout",
     "output_type": "stream",
     "text": [
      "Dr John Smith, M.D\n",
      "2 Non-Important Street,\n",
      "New York, Phone (000)-111-2222\n",
      "\n",
      "Name: Marta Sharapova Date: 5/11/2022\n",
      "\n",
      "Address: 9 tennis court, new Russia, DC\n",
      "\n",
      "K\n",
      "\n",
      "Prednisone 20 mg\n",
      "Lialda 2.4 gram\n",
      "\n",
      "Directions:\n",
      "\n",
      "Prednisone, Taper 5 mig every 3 days,\n",
      "Finish in 2.5 weeks a\n",
      "Lialda - take 2 pill everyday for 1 month\n",
      "\n",
      "Refill: 2 times\n",
      "\n"
     ]
    }
   ],
   "source": [
    "pytesseract.pytesseract.tesseract_cmd=r'C:/Program Files/Tesseract-OCR/tesseract.exe'\n",
    "text = pytesseract.image_to_string(img, lang='eng')\n",
    "print(text)"
   ]
  },
  {
   "cell_type": "code",
   "execution_count": 16,
   "id": "000df905-23c6-4018-a871-b99ba30b7b9f",
   "metadata": {},
   "outputs": [
    {
     "data": {
      "text/plain": [
       "[]"
      ]
     },
     "execution_count": 16,
     "metadata": {},
     "output_type": "execute_result"
    }
   ],
   "source": [
    "pattern = r'Directions:\\s*(.*?)\\s*Refill:'\n",
    "matches = re.findall(pattern, text)\n",
    "matches"
   ]
  }
 ],
 "metadata": {
  "kernelspec": {
   "display_name": "Python 3 (ipykernel)",
   "language": "python",
   "name": "python3"
  },
  "language_info": {
   "codemirror_mode": {
    "name": "ipython",
    "version": 3
   },
   "file_extension": ".py",
   "mimetype": "text/x-python",
   "name": "python",
   "nbconvert_exporter": "python",
   "pygments_lexer": "ipython3",
   "version": "3.12.4"
  }
 },
 "nbformat": 4,
 "nbformat_minor": 5
}
