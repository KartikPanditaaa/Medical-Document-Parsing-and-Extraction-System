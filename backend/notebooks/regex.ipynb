{
 "cells": [
  {
   "cell_type": "code",
   "execution_count": 13,
   "id": "fa7fd756-546e-4536-b7bc-68ef3cd8b71b",
   "metadata": {},
   "outputs": [],
   "source": [
    "import re"
   ]
  },
  {
   "cell_type": "code",
   "execution_count": 21,
   "id": "5170981f-5b57-42b7-bc7a-f7ba463fe7c9",
   "metadata": {},
   "outputs": [
    {
     "data": {
      "text/plain": [
       "['Use two tablets daily for three months']"
      ]
     },
     "execution_count": 21,
     "metadata": {},
     "output_type": "execute_result"
    }
   ],
   "source": [
    "text =  '''\n",
    "Dr John >mith, M.D\n",
    "\n",
    "2 Non-Important street,\n",
    "New York, Phone (900)-323- ~2222\n",
    "\n",
    "Name:  Virat Kohli Date: 2/05/2022\n",
    "\n",
    "Address: 2 cricket blvd, New Delhi\n",
    "\n",
    "| Omeprazole 40 mg\n",
    "\n",
    "Directions: Use two tablets daily for three months\n",
    "\n",
    "Refill: 3 times\n",
    "'''\n",
    "\n",
    "pattern = r'Directions:\\s*(.+)'\n",
    "matches = re.findall(pattern, text)\n",
    "matches"
   ]
  }
 ],
 "metadata": {
  "kernelspec": {
   "display_name": "Python 3 (ipykernel)",
   "language": "python",
   "name": "python3"
  },
  "language_info": {
   "codemirror_mode": {
    "name": "ipython",
    "version": 3
   },
   "file_extension": ".py",
   "mimetype": "text/x-python",
   "name": "python",
   "nbconvert_exporter": "python",
   "pygments_lexer": "ipython3",
   "version": "3.12.4"
  }
 },
 "nbformat": 4,
 "nbformat_minor": 5
}
